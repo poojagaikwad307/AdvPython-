{
 "cells": [
  {
   "cell_type": "markdown",
   "metadata": {},
   "source": [
    "## Test"
   ]
  },
  {
   "cell_type": "markdown",
   "metadata": {},
   "source": [
    "Write a function that takes cat/dog as input and prints it sound functionality.\n",
    "    say example: cat says meow , dogs barks.\n"
   ]
  },
  {
   "cell_type": "code",
   "execution_count": 1,
   "metadata": {},
   "outputs": [
    {
     "name": "stdout",
     "output_type": "stream",
     "text": [
      "Cat says meow\n",
      "Dog barks\n",
      "Unknown animal\n"
     ]
    }
   ],
   "source": [
    "def animal_sound(animal):\n",
    "    if animal.lower() == \"cat\":\n",
    "        print(\"Cat says meow\")\n",
    "    elif animal.lower() == \"dog\":\n",
    "        print(\"Dog barks\")\n",
    "    else:\n",
    "        print(\"Unknown animal\")\n",
    "\n",
    "# Example usage:\n",
    "animal_sound(\"cat\")  # Output: Cat says meow\n",
    "animal_sound(\"dog\")  # Output: Dog barks\n",
    "animal_sound(\"bird\")  # Output: Unknown animal\n"
   ]
  },
  {
   "cell_type": "code",
   "execution_count": 3,
   "metadata": {},
   "outputs": [
    {
     "name": "stdout",
     "output_type": "stream",
     "text": [
      "Cat says meow\n",
      "Dog barks\n",
      "Unknown animal\n"
     ]
    }
   ],
   "source": [
    "def animal_sound(animal):\n",
    "    if animal.lower() == \"cat\":\n",
    "        print(\"Cat says meow\")\n",
    "    elif animal.lower() == \"dog\":\n",
    "        print(\"Dog barks\")\n",
    "    else:\n",
    "        print(\"Unknown animal\")\n",
    "animal_sound(\"cat\")  \n",
    "animal_sound(\"dog\")  \n",
    "animal_sound(\"bird\")"
   ]
  },
  {
   "cell_type": "markdown",
   "metadata": {},
   "source": [
    "### Write a single line code to store even data from a range of 50 numbers in a list"
   ]
  },
  {
   "cell_type": "code",
   "execution_count": 4,
   "metadata": {},
   "outputs": [
    {
     "name": "stdout",
     "output_type": "stream",
     "text": [
      "[2, 4, 6, 8, 10, 12, 14, 16, 18, 20, 22, 24, 26, 28, 30, 32, 34, 36, 38, 40, 42, 44, 46, 48, 50]\n"
     ]
    }
   ],
   "source": [
    "even_data = [i for i in range(1,51) if i%2==0]\n",
    "print (even_data)"
   ]
  },
  {
   "cell_type": "markdown",
   "metadata": {},
   "source": [
    "## Cerate a class vechale. Cerate instance attributes speed.\n",
    "Define a method 'accelerate' that takes accelerated speed as input parameter and \n",
    "returns new speed as output i.e( speed + accelerated speed)."
   ]
  },
  {
   "cell_type": "code",
   "execution_count": null,
   "metadata": {},
   "outputs": [],
   "source": [
    "class vehicle:\n",
    "    def__init__(self)\n"
   ]
  },
  {
   "cell_type": "code",
   "execution_count": null,
   "metadata": {},
   "outputs": [],
   "source": []
  }
 ],
 "metadata": {
  "kernelspec": {
   "display_name": "venv",
   "language": "python",
   "name": "python3"
  },
  "language_info": {
   "codemirror_mode": {
    "name": "ipython",
    "version": 3
   },
   "file_extension": ".py",
   "mimetype": "text/x-python",
   "name": "python",
   "nbconvert_exporter": "python",
   "pygments_lexer": "ipython3",
   "version": "3.13.2"
  }
 },
 "nbformat": 4,
 "nbformat_minor": 2
}
